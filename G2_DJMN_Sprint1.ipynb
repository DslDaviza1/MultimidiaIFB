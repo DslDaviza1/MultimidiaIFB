{
  "nbformat": 4,
  "nbformat_minor": 0,
  "metadata": {
    "colab": {
      "name": "G2_DJMN_Sprint1.ipynb",
      "provenance": [],
      "collapsed_sections": [],
      "include_colab_link": true
    },
    "kernelspec": {
      "name": "python3",
      "display_name": "Python 3"
    },
    "language_info": {
      "name": "python"
    }
  },
  "cells": [
    {
      "cell_type": "markdown",
      "metadata": {
        "id": "view-in-github",
        "colab_type": "text"
      },
      "source": [
        "<a href=\"https://colab.research.google.com/github/DslDaviza1/MultimidiaIFB/blob/main/G2_DJMN_Sprint1.ipynb\" target=\"_parent\"><img src=\"https://colab.research.google.com/assets/colab-badge.svg\" alt=\"Open In Colab\"/></a>"
      ]
    },
    {
      "cell_type": "code",
      "metadata": {
        "colab": {
          "base_uri": "https://localhost:8080/",
          "height": 463
        },
        "id": "Ie_Cs7Tk3zYE",
        "outputId": "a8cca7ae-add1-409a-bcd5-54398b33f562"
      },
      "source": [
        "#Os imports não são finais\n",
        "import pandas as pd\n",
        "import numpy as np\n",
        "import requests\n",
        "\n",
        "#Para gerar o arquivo .csv sem tratamento a partir da página .html\n",
        "dataHTML = pd.read_html('http://www.nuforc.org/webreports/ndxevent.html')\n",
        "dataHTML[0].to_csv('file.csv')\n",
        "dataCSV = pd.read_csv('file.csv')\n",
        "\n",
        "#Para fazer o tratamento do DataFrame do pandas:\n",
        "keep_col = ['Reports','Count']#para o tratamento do .csv\n",
        "newData = dataCSV[keep_col]\n",
        "\n",
        "#Para encontrar o intervalo de linhas requisitado, fizemos:\n",
        "#print(newData.loc[data['Reports'] == '08/2017'])# Na linha 45\n",
        "#print(newData.loc[data['Reports'] == '09/1997'])# Na linha 284\n",
        "\n",
        "#E agora para deixar apenas os dados desejados no arquivo\n",
        "newData = newData.iloc[45:285]\n",
        "\n",
        "#Gerar o novo arquivo com o alvo de dados\n",
        "newData.to_csv(\"OVNIs_Index.csv\", index = False)\n",
        "#Seguinte a geração desse arquivo, é feita a renomeação de newFile.csv para OVNIs.csv\n",
        "\n",
        "indexOVNIs = pd.read_csv('OVNIs_Index.csv')\n",
        "#A partir daqui fazemos o tratamento para inserir o conteúdo das tabelas HTML dentro de cada link\n",
        "#Método para acessar um link com uma data específica\n",
        "def tableHMTL(date):\n",
        "    url = 'http://www.nuforc.org/webreports/ndxe' + date + '.html'\n",
        "    page = requests.get(url)\n",
        "    soup = pd.read_html(page.text)\n",
        "    soup = pd.DataFrame(np.concatenate(soup), columns=columns)\n",
        "    return soup\n",
        "\n",
        "#Passar dataOVNIs['Reports'] como index para chamar links do dataHTML\n",
        "tablesOVNIS = []\n",
        "columns = ['Date/Time','City','State','Shape','Duration','Summary','Posted']\n",
        "tablesOVNIS = pd.DataFrame(tablesOVNIS, columns=columns)\n",
        "for i in indexOVNIs['Reports']:\n",
        "    data_relato = str(i)\n",
        "    data_split = data_relato.split(\"/\")\n",
        "    data_split.reverse()\n",
        "    date = ''.join(data_split)\n",
        "    tablesOVNIS = pd.concat([tableHMTL(date),tablesOVNIS])\n",
        "\n",
        "tablesOVNIS.to_csv('OVNIS.csv')\n",
        "print(tablesOVNIS)\n",
        "\n",
        "\n",
        "#SQL Query\n",
        "conn = sqlite3.connect('marcosrian.db')\n",
        "c = conn.cursor()\n",
        "\n",
        "c.execute('CREATE TABLE IF NOT EXISTS relatOVNIS (num, DateTime, City, State, Shape, Duration, Summary, Posted)')\n",
        "conn.commit()\n",
        "\n",
        "#df = DataFrame(relatOVNIS, columns = ['DateTime','City','State','Shape','Duration','Summary','Posted']) não é necessário, apague ao ler\n",
        "sqlOVNIS = tabelasOVNIS.to_sql('OVNIS', conn, if_exists='replace', index = False)"
      ],
      "execution_count": null,
      "outputs": [
        {
          "output_type": "stream",
          "text": [
            "         Date/Time  ...    Posted\n",
            "0    9/30/97 22:00  ...    3/2/04\n",
            "1    9/30/97 20:00  ...  10/30/06\n",
            "2    9/28/97 23:15  ...    7/5/99\n",
            "3    9/27/97 23:00  ...   2/22/05\n",
            "4    9/27/97 05:00  ...    8/5/01\n",
            "..             ...  ...       ...\n",
            "413   8/1/17 02:45  ...    8/4/17\n",
            "414   8/1/17 02:00  ...    8/4/17\n",
            "415   8/1/17 01:00  ...    5/9/19\n",
            "416   8/1/17 00:00  ...   2/13/20\n",
            "417         8/1/17  ...   6/25/20\n",
            "\n",
            "[100157 rows x 7 columns]\n"
          ],
          "name": "stdout"
        },
        {
          "output_type": "error",
          "ename": "NameError",
          "evalue": "ignored",
          "traceback": [
            "\u001b[0;31m---------------------------------------------------------------------------\u001b[0m",
            "\u001b[0;31mNameError\u001b[0m                                 Traceback (most recent call last)",
            "\u001b[0;32m<ipython-input-6-207ddfbecd85>\u001b[0m in \u001b[0;36m<module>\u001b[0;34m()\u001b[0m\n\u001b[1;32m     57\u001b[0m \u001b[0;34m\u001b[0m\u001b[0m\n\u001b[1;32m     58\u001b[0m \u001b[0;31m#df = DataFrame(relatOVNIS, columns = ['DateTime','City','State','Shape','Duration','Summary','Posted']) não é necessário, apague ao ler\u001b[0m\u001b[0;34m\u001b[0m\u001b[0;34m\u001b[0m\u001b[0;34m\u001b[0m\u001b[0m\n\u001b[0;32m---> 59\u001b[0;31m \u001b[0msqlOVNIS\u001b[0m \u001b[0;34m=\u001b[0m \u001b[0mtabelasOVNIS\u001b[0m\u001b[0;34m.\u001b[0m\u001b[0mto_sql\u001b[0m\u001b[0;34m(\u001b[0m\u001b[0;34m'OVNIS'\u001b[0m\u001b[0;34m,\u001b[0m \u001b[0mconn\u001b[0m\u001b[0;34m,\u001b[0m \u001b[0mif_exists\u001b[0m\u001b[0;34m=\u001b[0m\u001b[0;34m'replace'\u001b[0m\u001b[0;34m,\u001b[0m \u001b[0mindex\u001b[0m \u001b[0;34m=\u001b[0m \u001b[0;32mFalse\u001b[0m\u001b[0;34m)\u001b[0m\u001b[0;34m\u001b[0m\u001b[0;34m\u001b[0m\u001b[0m\n\u001b[0m",
            "\u001b[0;31mNameError\u001b[0m: name 'tabelasOVNIS' is not defined"
          ]
        }
      ]
    },
    {
      "cell_type": "code",
      "metadata": {
        "colab": {
          "base_uri": "https://localhost:8080/",
          "height": 627
        },
        "id": "lM-z7lzLMHAi",
        "outputId": "f5c0a7bd-31ec-4026-a315-11b7bf9573c9"
      },
      "source": [
        "#Os imports não são finais\n",
        "import pandas as pd\n",
        "import numpy as np\n",
        "import requests\n",
        "\n",
        "#Para gerar o arquivo .csv sem tratamento a partir da página .html\n",
        "dataHTML = pd.read_html('http://www.nuforc.org/webreports/ndxevent.html')\n",
        "dataHTML[0].to_csv('file.csv')\n",
        "dataCSV = pd.read_csv('file.csv')\n",
        "\n",
        "#Para fazer o tratamento do DataFrame do pandas:\n",
        "keep_col = ['Reports','Count']#para o tratamento do .csv\n",
        "newData = dataCSV[keep_col]\n",
        "\n",
        "#Para encontrar o intervalo de linhas requisitado, fizemos:\n",
        "#print(newData.loc[data['Reports'] == '08/2017'])# Na linha 45\n",
        "#print(newData.loc[data['Reports'] == '09/1997'])# Na linha 284\n",
        "\n",
        "#E agora para deixar apenas os dados desejados no arquivo\n",
        "newData = newData.iloc[45:285]\n",
        "\n",
        "#Gerar o novo arquivo com o alvo de dados\n",
        "newData.to_csv(\"OVNIs_Index.csv\", index = False)\n",
        "#Seguinte a geração desse arquivo, é feita a renomeação de newFile.csv para OVNIs.csv\n",
        "\n",
        "indexOVNIs = pd.read_csv('OVNIs_Index.csv')\n",
        "#A partir daqui fazemos o tratamento para inserir o conteúdo das tabelas HTML dentro de cada link\n",
        "#Método para acessar um link com uma data específica\n",
        "def tableHMTL(date):\n",
        "    url = 'http://www.nuforc.org/webreports/ndxe' + date + '.html'\n",
        "    page = requests.get(url)\n",
        "    soup = pd.read_html(page.text)\n",
        "    soup = pd.DataFrame(np.concatenate(soup), columns=columns)\n",
        "    return soup\n",
        "\n",
        "#Passar dataOVNIs['Reports'] como index para chamar links do dataHTML\n",
        "tablesOVNIS = []\n",
        "columns = ['Date/Time','City','State','Shape','Duration','Summary','Posted']\n",
        "tablesOVNIS = pd.DataFrame(tablesOVNIS, columns=columns)\n",
        "for i in indexOVNIs['Reports']:\n",
        "    data_relato = str(i)\n",
        "    data_split = data_relato.split(\"/\")\n",
        "    data_split.reverse()\n",
        "    date = ''.join(data_split)\n",
        "    tablesOVNIS = pd.concat([tableHMTL(date),tablesOVNIS])\n",
        "\n",
        "tablesOVNIS.to_csv('OVNIS.csv')\n",
        "print(tablesOVNIS)\n",
        "\n",
        "\n",
        "#SQL Query\n",
        "conn = sqlite3.connect('marcosrian.db')\n",
        "c = conn.cursor()\n",
        "\n",
        "c.execute('CREATE TABLE IF NOT EXISTS relatOVNIS (num, DateTime, City, State, Shape, Duration, Summary, Posted)')\n",
        "conn.commit()\n",
        "\n",
        "#df = DataFrame(relatOVNIS, columns = ['DateTime','City','State','Shape','Duration','Summary','Posted']) não é necessário, apague ao ler\n",
        "sqlOVNIS = tablesOVNIS.to_sql('OVNIS', conn, if_exists='replace', index = False)\n",
        "print('------------------------------------------------')\n",
        "print(type(sqlOVNIS))\n",
        "print(sqlOVNIS)\n",
        "\n",
        "\n",
        "c.execute('''  \n",
        "SELECT * FROM sqlOVNIS\n",
        "          ''')\n",
        "\n",
        "for row in c.fetchall():\n",
        "    print (row)"
      ],
      "execution_count": null,
      "outputs": [
        {
          "output_type": "stream",
          "text": [
            "         Date/Time  ...    Posted\n",
            "0    9/30/97 22:00  ...    3/2/04\n",
            "1    9/30/97 20:00  ...  10/30/06\n",
            "2    9/28/97 23:15  ...    7/5/99\n",
            "3    9/27/97 23:00  ...   2/22/05\n",
            "4    9/27/97 05:00  ...    8/5/01\n",
            "..             ...  ...       ...\n",
            "413   8/1/17 02:45  ...    8/4/17\n",
            "414   8/1/17 02:00  ...    8/4/17\n",
            "415   8/1/17 01:00  ...    5/9/19\n",
            "416   8/1/17 00:00  ...   2/13/20\n",
            "417         8/1/17  ...   6/25/20\n",
            "\n",
            "[100157 rows x 7 columns]\n"
          ],
          "name": "stdout"
        },
        {
          "output_type": "stream",
          "text": [
            "ERROR:root:An unexpected error occurred while tokenizing input\n",
            "The following traceback may be corrupted or invalid\n",
            "The error message is: ('EOF in multi-line string', (1, 10))\n",
            "\n"
          ],
          "name": "stderr"
        },
        {
          "output_type": "stream",
          "text": [
            "------------------------------------------------\n",
            "<class 'NoneType'>\n",
            "None\n"
          ],
          "name": "stdout"
        },
        {
          "output_type": "error",
          "ename": "OperationalError",
          "evalue": "ignored",
          "traceback": [
            "\u001b[0;31m---------------------------------------------------------------------------\u001b[0m",
            "\u001b[0;31mOperationalError\u001b[0m                          Traceback (most recent call last)",
            "\u001b[0;32m<ipython-input-17-5dfcaa834a00>\u001b[0m in \u001b[0;36m<module>\u001b[0;34m()\u001b[0m\n\u001b[1;32m     65\u001b[0m c.execute('''  \n\u001b[1;32m     66\u001b[0m \u001b[0mSELECT\u001b[0m \u001b[0;34m*\u001b[0m \u001b[0mFROM\u001b[0m \u001b[0msqlOVNIS\u001b[0m\u001b[0;34m\u001b[0m\u001b[0;34m\u001b[0m\u001b[0m\n\u001b[0;32m---> 67\u001b[0;31m           ''')\n\u001b[0m\u001b[1;32m     68\u001b[0m \u001b[0;34m\u001b[0m\u001b[0m\n\u001b[1;32m     69\u001b[0m \u001b[0;32mfor\u001b[0m \u001b[0mrow\u001b[0m \u001b[0;32min\u001b[0m \u001b[0mc\u001b[0m\u001b[0;34m.\u001b[0m\u001b[0mfetchall\u001b[0m\u001b[0;34m(\u001b[0m\u001b[0;34m)\u001b[0m\u001b[0;34m:\u001b[0m\u001b[0;34m\u001b[0m\u001b[0;34m\u001b[0m\u001b[0m\n",
            "\u001b[0;31mOperationalError\u001b[0m: no such table: sqlOVNIS"
          ]
        }
      ]
    },
    {
      "cell_type": "code",
      "metadata": {
        "colab": {
          "base_uri": "https://localhost:8080/",
          "height": 317
        },
        "id": "FhYAkmrRM3vM",
        "outputId": "202ebdb9-0541-4fd5-8719-586bb95f18ca"
      },
      "source": [
        "\n"
      ],
      "execution_count": null,
      "outputs": [
        {
          "output_type": "stream",
          "text": [
            "ERROR:root:An unexpected error occurred while tokenizing input\n",
            "The following traceback may be corrupted or invalid\n",
            "The error message is: ('EOF in multi-line string', (1, 10))\n",
            "\n"
          ],
          "name": "stderr"
        },
        {
          "output_type": "error",
          "ename": "OperationalError",
          "evalue": "ignored",
          "traceback": [
            "\u001b[0;31m---------------------------------------------------------------------------\u001b[0m",
            "\u001b[0;31mOperationalError\u001b[0m                          Traceback (most recent call last)",
            "\u001b[0;32m<ipython-input-15-bfd42aea9d2a>\u001b[0m in \u001b[0;36m<module>\u001b[0;34m()\u001b[0m\n\u001b[1;32m      2\u001b[0m c.execute('''  \n\u001b[1;32m      3\u001b[0m \u001b[0mSELECT\u001b[0m \u001b[0;34m*\u001b[0m \u001b[0mFROM\u001b[0m \u001b[0msqlOVNIS\u001b[0m\u001b[0;34m\u001b[0m\u001b[0;34m\u001b[0m\u001b[0m\n\u001b[0;32m----> 4\u001b[0;31m           ''')\n\u001b[0m\u001b[1;32m      5\u001b[0m \u001b[0;34m\u001b[0m\u001b[0m\n\u001b[1;32m      6\u001b[0m \u001b[0;32mfor\u001b[0m \u001b[0mrow\u001b[0m \u001b[0;32min\u001b[0m \u001b[0mc\u001b[0m\u001b[0;34m.\u001b[0m\u001b[0mfetchall\u001b[0m\u001b[0;34m(\u001b[0m\u001b[0;34m)\u001b[0m\u001b[0;34m:\u001b[0m\u001b[0;34m\u001b[0m\u001b[0;34m\u001b[0m\u001b[0m\n",
            "\u001b[0;31mOperationalError\u001b[0m: no such table: sqlOVNIS"
          ]
        }
      ]
    }
  ]
}